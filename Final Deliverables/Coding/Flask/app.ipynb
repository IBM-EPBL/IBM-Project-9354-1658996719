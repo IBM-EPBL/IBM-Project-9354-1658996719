{
 "cells": [
  {
   "cell_type": "code",
   "execution_count": 1,
   "id": "29dc9d7d",
   "metadata": {},
   "outputs": [
    {
     "name": "stdout",
     "output_type": "stream",
     "text": [
      "Requirement already satisfied: flask in c:\\users\\hp\\appdata\\local\\programs\\python\\python39\\lib\\site-packages (2.2.2)\n",
      "Requirement already satisfied: itsdangerous>=2.0 in c:\\users\\hp\\appdata\\local\\programs\\python\\python39\\lib\\site-packages (from flask) (2.1.2)\n",
      "Requirement already satisfied: Werkzeug>=2.2.2 in c:\\users\\hp\\appdata\\local\\programs\\python\\python39\\lib\\site-packages (from flask) (2.2.2)\n",
      "Requirement already satisfied: click>=8.0 in c:\\users\\hp\\appdata\\local\\programs\\python\\python39\\lib\\site-packages (from flask) (8.1.3)\n",
      "Requirement already satisfied: importlib-metadata>=3.6.0 in c:\\users\\hp\\appdata\\local\\programs\\python\\python39\\lib\\site-packages (from flask) (5.1.0)\n",
      "Requirement already satisfied: Jinja2>=3.0 in c:\\users\\hp\\appdata\\local\\programs\\python\\python39\\lib\\site-packages (from flask) (3.0.0)\n",
      "Requirement already satisfied: colorama in c:\\users\\hp\\appdata\\local\\programs\\python\\python39\\lib\\site-packages (from click>=8.0->flask) (0.4.4)\n",
      "Requirement already satisfied: zipp>=0.5 in c:\\users\\hp\\appdata\\local\\programs\\python\\python39\\lib\\site-packages (from importlib-metadata>=3.6.0->flask) (3.10.0)\n",
      "Requirement already satisfied: MarkupSafe>=2.0.0rc2 in c:\\users\\hp\\appdata\\local\\programs\\python\\python39\\lib\\site-packages (from Jinja2>=3.0->flask) (2.1.1)\n",
      "Note: you may need to restart the kernel to use updated packages.\n"
     ]
    },
    {
     "name": "stderr",
     "output_type": "stream",
     "text": [
      "WARNING: You are using pip version 21.1.1; however, version 22.3.1 is available.\n",
      "You should consider upgrading via the 'c:\\users\\hp\\appdata\\local\\programs\\python\\python39\\python.exe -m pip install --upgrade pip' command.\n"
     ]
    }
   ],
   "source": [
    "pip install flask"
   ]
  },
  {
   "cell_type": "code",
   "execution_count": null,
   "id": "e9e2a3de",
   "metadata": {},
   "outputs": [
    {
     "name": "stdout",
     "output_type": "stream",
     "text": [
      " * Serving Flask app '__main__'\n",
      " * Debug mode: off\n"
     ]
    },
    {
     "name": "stderr",
     "output_type": "stream",
     "text": [
      "WARNING: This is a development server. Do not use it in a production deployment. Use a production WSGI server instead.\n",
      " * Running on http://127.0.0.1:5000\n",
      "Press CTRL+C to quit\n"
     ]
    }
   ],
   "source": [
    "import pip._vendor.requests\n",
    "from pip._vendor import requests\n",
    "# import requests\n",
    "from  flask import *\n",
    "\n",
    "# NOTE: you must manually set API_KEY below using information retrieved from your IBM Cloud account.\n",
    "API_KEY = \"X2Pk1QhBMW2t1ZpNhVtmi3RShe8Icb-61H84qlBy3UyG\"\n",
    "token_response = requests.post('https://iam.cloud.ibm.com/identity/token', data={\"apikey\":\n",
    " API_KEY, \"grant_type\": 'urn:ibm:params:oauth:grant-type:apikey'})\n",
    "mltoken = token_response.json()[\"access_token\"]\n",
    "\n",
    "header = {'Content-Type': 'application/json', 'Authorization': 'Bearer ' + mltoken}\n",
    "app = Flask(__name__,template_folder=\"template\")\n",
    "\n",
    "@app.route('/')\n",
    "def home():\n",
    "    return render_template('index.html')\n",
    "\n",
    "@app.route('/execute', methods=['POST'])\n",
    "def execute():\n",
    "    age= request.form[\"age\"]\n",
    "    sex=request.form[\"sex\"]\n",
    "    cpt=request.form[\"chest pain type\"]\n",
    "    bp=request.form[\"bp\"]\n",
    "    chol=request.form[\"cholesterol\"]\n",
    "    fbs=request.form[\"fbs over 120\"]\n",
    "    ekg=request.form[\"ekg results\"]\n",
    "    maxhr=request.form[\"max hr\"]\n",
    "    ea=request.form[\"exercise angina\"]\n",
    "    st=request.form[\"st depression\"]\n",
    "    slope=request.form[\"slope st\"]\n",
    "    vess=request.form[\"number of vessels fluro\"]\n",
    "    tha=request.form[\"thallium\"]\n",
    "    \n",
    "    \n",
    "\n",
    "    temp=[[int(age),int(sex),int(cpt),int(bp),int(chol),int(fbs),int(ekg),int(maxhr),int(ea),float(st),int(slope),int(vess),int(tha)]]\n",
    "    payload_scoring = {\"input_data\": [{\"field\": [[\"Age\",\"Sex\",\"Chest pain type\",\"BP\",\"Cholesterol\",\"FBS over 120\",\"EKG results\",\"Max HR\",\"Exercise angina\",\"ST depression\",\"Slope of ST\",\"Number of vessels fluro\",\"Thallium\"]], \"values\": temp}]}\n",
    "\n",
    "    response_scoring = requests.post('https://us-south.ml.cloud.ibm.com/ml/v4/deployments/a1ee86d1-a6f4-4dd8-a254-6b7b4acbf55c/predictions?version=2022-11-22', json=payload_scoring,\n",
    "    headers={'Authorization': 'Bearer ' + mltoken})\n",
    "    print(\"Scoring response\")\n",
    "    prediction = response_scoring.json()\n",
    "\n",
    "    print(prediction)\n",
    "    out = prediction['predictions'][0]['values'][0][0]\n",
    "    if out==0:\n",
    "        out=\"This Person is not affected by heart disease\"\n",
    "    elif out==1:\n",
    "        out=\"This Person is affected by heart disease\"\n",
    "    return render_template('index.html' , prediction_text=out)\n",
    "\n",
    "\n",
    "if( __name__== \"__main__\"):\n",
    "    app.run()"
   ]
  },
  {
   "cell_type": "code",
   "execution_count": null,
   "id": "64c79443",
   "metadata": {},
   "outputs": [],
   "source": []
  }
 ],
 "metadata": {
  "kernelspec": {
   "display_name": "Python 3",
   "language": "python",
   "name": "python3"
  },
  "language_info": {
   "codemirror_mode": {
    "name": "ipython",
    "version": 3
   },
   "file_extension": ".py",
   "mimetype": "text/x-python",
   "name": "python",
   "nbconvert_exporter": "python",
   "pygments_lexer": "ipython3",
   "version": "3.9.5"
  }
 },
 "nbformat": 4,
 "nbformat_minor": 5
}
